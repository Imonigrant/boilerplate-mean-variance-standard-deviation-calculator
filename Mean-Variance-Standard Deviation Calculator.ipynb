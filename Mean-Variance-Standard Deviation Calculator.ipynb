{
 "cells": [
  {
   "cell_type": "code",
   "execution_count": 28,
   "id": "baea9f15",
   "metadata": {},
   "outputs": [
    {
     "data": {
      "text/plain": [
       "{'mean': [[3.0, 4.0, 5.0], [1.0, 4.0, 7.0], 4.0],\n",
       " 'variance': [[6.0, 6.0, 6.0],\n",
       "  [0.6666666666666666, 0.6666666666666666, 0.6666666666666666],\n",
       "  6.666666666666667],\n",
       " 'standard deviation': [[2.449489742783178,\n",
       "   2.449489742783178,\n",
       "   2.449489742783178],\n",
       "  [0.816496580927726, 0.816496580927726, 0.816496580927726],\n",
       "  2.581988897471611],\n",
       " 'max': [[6, 7, 8], [2, 5, 8], 8],\n",
       " 'min': [[0, 1, 2], [0, 3, 6], 0],\n",
       " 'sum': [[9, 12, 15], [3, 12, 21], 36]}"
      ]
     },
     "execution_count": 28,
     "metadata": {},
     "output_type": "execute_result"
    }
   ],
   "source": [
    "import numpy as np\n",
    "\n",
    "def calculate(list):\n",
    "    if len(list) != 9:\n",
    "        raise ValueError('List must contain nine numbers.')\n",
    "\n",
    "    list = np.array(list).reshape((3,3))\n",
    "\n",
    "    calculations = {\n",
    "  'mean': [list.mean(axis=0).tolist(), list.mean(axis=1).tolist(), np.mean(list).tolist()],\n",
    "  'variance': [list.var(axis=0).tolist(), list.var(axis=1).tolist(), np.var(list).tolist()],\n",
    "  'standard deviation': [list.std(axis=0).tolist(), list.std(axis=1).tolist(), np.std(list).tolist()],\n",
    "  'max': [list.max(axis=0).tolist(), list.max(axis=1).tolist(), np.max(list).tolist()],\n",
    "  'min': [list.min(axis=0).tolist(), list.min(axis=1).tolist(), np.min(list).tolist()],\n",
    "  'sum': [list.sum(axis=0).tolist(), list.sum(axis=1).tolist(), np.sum(list).tolist()]\n",
    "}\n",
    "\n",
    "    \n",
    "    return calculations\n",
    "calculate([0,1,2,3,4,5,6,7,8,])"
   ]
  },
  {
   "cell_type": "code",
   "execution_count": null,
   "id": "caffc7ef",
   "metadata": {},
   "outputs": [],
   "source": []
  }
 ],
 "metadata": {
  "kernelspec": {
   "display_name": "Python 3 (ipykernel)",
   "language": "python",
   "name": "python3"
  },
  "language_info": {
   "codemirror_mode": {
    "name": "ipython",
    "version": 3
   },
   "file_extension": ".py",
   "mimetype": "text/x-python",
   "name": "python",
   "nbconvert_exporter": "python",
   "pygments_lexer": "ipython3",
   "version": "3.11.5"
  }
 },
 "nbformat": 4,
 "nbformat_minor": 5
}
